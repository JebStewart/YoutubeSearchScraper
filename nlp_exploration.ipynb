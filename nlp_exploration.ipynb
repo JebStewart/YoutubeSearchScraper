{
 "cells": [
  {
   "cell_type": "code",
   "execution_count": null,
   "metadata": {},
   "outputs": [],
   "source": [
    "import spacy\r\n",
    "import pandas as pd\r\n",
    "from scraper import YoutubeSearchScraper"
   ]
  }
 ],
 "metadata": {
  "kernelspec": {
   "display_name": "Python 3.7.9 64-bit",
   "metadata": {
    "interpreter": {
     "hash": "125f83d50878569f2fea4ba507a22ab9b39fd1a541a24c113b4197a3635e152f"
    }
   },
   "name": "python3"
  },
  "language_info": {
   "name": "python",
   "nbconvert_exporter": "python",
   "version": "3.7.9"
  },
  "orig_nbformat": 2
 },
 "nbformat": 4,
 "nbformat_minor": 2
}