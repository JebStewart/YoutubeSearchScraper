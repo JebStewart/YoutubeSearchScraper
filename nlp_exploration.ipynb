{
 "cells": [
  {
   "cell_type": "code",
   "execution_count": 1,
   "metadata": {},
   "outputs": [],
   "source": [
    "import spacy\r\n",
    "import pandas as pd\r\n",
    "from scraper import YoutubeScraper"
   ]
  },
  {
   "cell_type": "code",
   "execution_count": 2,
   "metadata": {},
   "outputs": [],
   "source": [
    "coins = ['XRP', 'BTC', 'ETH', 'DOGE']\r\n",
    "yts = YoutubeScraper()\r\n",
    "df = yts.RUN(coins)"
   ]
  },
  {
   "cell_type": "code",
   "execution_count": null,
   "metadata": {},
   "outputs": [],
   "source": []
  },
  {
   "cell_type": "code",
   "execution_count": 3,
   "metadata": {},
   "outputs": [
    {
     "data": {
      "text/html": "<div>\n<style scoped>\n    .dataframe tbody tr th:only-of-type {\n        vertical-align: middle;\n    }\n\n    .dataframe tbody tr th {\n        vertical-align: top;\n    }\n\n    .dataframe thead th {\n        text-align: right;\n    }\n</style>\n<table border=\"1\" class=\"dataframe\">\n  <thead>\n    <tr style=\"text-align: right;\">\n      <th></th>\n      <th>Query</th>\n      <th>Titles</th>\n      <th>Clean_Titles</th>\n    </tr>\n  </thead>\n  <tbody>\n    <tr>\n      <th>0</th>\n      <td>XRP</td>\n      <td>Ripple XRP YOU CAN'T MAKE THIS UP DO YOU SEE!</td>\n      <td>ripple xrp you cant make this up do you see</td>\n    </tr>\n    <tr>\n      <th>1</th>\n      <td>XRP</td>\n      <td>62 Million XRP Coinbase Ready for Relist!! XRP...</td>\n      <td>million xrp coinbase ready for relist xrp</td>\n    </tr>\n    <tr>\n      <th>2</th>\n      <td>XRP</td>\n      <td>XRP Millions Ahead (Biggest Bitcoin FUD FAIL)</td>\n      <td>xrp millions ahead biggest bitcoin fud fail</td>\n    </tr>\n    <tr>\n      <th>3</th>\n      <td>XRP</td>\n      <td>#XRP $30 EOY #XRP 10K INCOMING BITBOY Bearable...</td>\n      <td>xrp  eoy xrp k incoming bitboy bearablebull xr...</td>\n    </tr>\n    <tr>\n      <th>4</th>\n      <td>XRP</td>\n      <td>WHY XRP WILL HIT $7 - $13 IN THE NEXT PUMP!!!!...</td>\n      <td>why xrp will hit    in the next pump watch this</td>\n    </tr>\n    <tr>\n      <th>...</th>\n      <td>...</td>\n      <td>...</td>\n      <td>...</td>\n    </tr>\n    <tr>\n      <th>100</th>\n      <td>DOGE</td>\n      <td>I JUST DROPPED BELOW $1 Million Dollars in Dog...</td>\n      <td>i just dropped below  million dollars in dogec...</td>\n    </tr>\n    <tr>\n      <th>101</th>\n      <td>DOGE</td>\n      <td>DOGECOIN HOLDERS NEED TO KNOW WHAT ETHEREUM FO...</td>\n      <td>dogecoin holders need to know what ethereum fo...</td>\n    </tr>\n    <tr>\n      <th>102</th>\n      <td>DOGE</td>\n      <td>WAS I WRONG ABOUT DOGECOIN???</td>\n      <td>was i wrong about dogecoin</td>\n    </tr>\n    <tr>\n      <th>103</th>\n      <td>DOGE</td>\n      <td>THE STORY OF DIAMOND HANDS - 3 Cautionary Tale...</td>\n      <td>the story of diamond hands   cautionary tales ...</td>\n    </tr>\n    <tr>\n      <th>104</th>\n      <td>DOGE</td>\n      <td>Hey guys... so yea, I QUIT.</td>\n      <td>hey guys so yea i quit</td>\n    </tr>\n  </tbody>\n</table>\n<p>105 rows × 3 columns</p>\n</div>",
      "text/plain": "    Query                                             Titles  \\\n0     XRP      Ripple XRP YOU CAN'T MAKE THIS UP DO YOU SEE!   \n1     XRP  62 Million XRP Coinbase Ready for Relist!! XRP...   \n2     XRP      XRP Millions Ahead (Biggest Bitcoin FUD FAIL)   \n3     XRP  #XRP $30 EOY #XRP 10K INCOMING BITBOY Bearable...   \n4     XRP  WHY XRP WILL HIT $7 - $13 IN THE NEXT PUMP!!!!...   \n..    ...                                                ...   \n100  DOGE  I JUST DROPPED BELOW $1 Million Dollars in Dog...   \n101  DOGE  DOGECOIN HOLDERS NEED TO KNOW WHAT ETHEREUM FO...   \n102  DOGE                      WAS I WRONG ABOUT DOGECOIN???   \n103  DOGE  THE STORY OF DIAMOND HANDS - 3 Cautionary Tale...   \n104  DOGE                        Hey guys... so yea, I QUIT.   \n\n                                          Clean_Titles  \n0          ripple xrp you cant make this up do you see  \n1           million xrp coinbase ready for relist xrp   \n2          xrp millions ahead biggest bitcoin fud fail  \n3    xrp  eoy xrp k incoming bitboy bearablebull xr...  \n4      why xrp will hit    in the next pump watch this  \n..                                                 ...  \n100  i just dropped below  million dollars in dogec...  \n101  dogecoin holders need to know what ethereum fo...  \n102                         was i wrong about dogecoin  \n103  the story of diamond hands   cautionary tales ...  \n104                             hey guys so yea i quit  \n\n[105 rows x 3 columns]"
     },
     "execution_count": 3,
     "metadata": {},
     "output_type": "execute_result"
    }
   ],
   "source": [
    "df"
   ]
  }
 ],
 "metadata": {
  "kernelspec": {
   "display_name": "Python 3.7.9 64-bit",
   "metadata": {
    "interpreter": {
     "hash": "125f83d50878569f2fea4ba507a22ab9b39fd1a541a24c113b4197a3635e152f"
    }
   },
   "name": "python3"
  },
  "language_info": {
   "codemirror_mode": {
    "name": "ipython",
    "version": 3
   },
   "file_extension": ".py",
   "mimetype": "text/x-python",
   "name": "python",
   "nbconvert_exporter": "python",
   "pygments_lexer": "ipython3",
   "version": "3.7.9"
  },
  "orig_nbformat": 2
 },
 "nbformat": 4,
 "nbformat_minor": 2
}