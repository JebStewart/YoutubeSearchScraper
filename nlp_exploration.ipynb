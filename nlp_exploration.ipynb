{
 "cells": [
  {
   "cell_type": "code",
   "execution_count": 20,
   "metadata": {},
   "outputs": [],
   "source": [
    "import spacy\r\n",
    "import pandas as pd\r\n",
    "from scraper import YoutubeScraper\r\n",
    "import plotly.express as px\r\n",
    "import plotly.graph_objects as go"
   ]
  },
  {
   "cell_type": "code",
   "execution_count": 21,
   "metadata": {},
   "outputs": [],
   "source": [
    "coins = ['XRP', 'BTC', 'ETH', 'DOGE']\r\n",
    "yts = YoutubeScraper()\r\n",
    "df = yts.RUN(coins)"
   ]
  },
  {
   "cell_type": "code",
   "execution_count": 22,
   "metadata": {},
   "outputs": [
    {
     "name": "stdout",
     "output_type": "stream",
     "text": [
      "2021-07-16 08:52:50,439 loading file C:\\Users\\jebli\\.flair\\models\\sentiment-en-mix-distillbert_4.pt\n"
     ]
    },
    {
     "name": "stderr",
     "output_type": "stream",
     "text": [
      "[nltk_data] Downloading package vader_lexicon to\n",
      "[nltk_data]     C:\\Users\\jebli\\AppData\\Roaming\\nltk_data...\n",
      "[nltk_data]   Package vader_lexicon is already up-to-date!\n"
     ]
    }
   ],
   "source": [
    "#nlp pretrained models\r\n",
    "import nltk\r\n",
    "nltk.download('vader_lexicon')\r\n",
    "from nltk.sentiment.vader import SentimentIntensityAnalyzer\r\n",
    "sid = SentimentIntensityAnalyzer()\r\n",
    "\r\n",
    "from textblob import TextBlob\r\n",
    "\r\n",
    "import flair\r\n",
    "flair_sentiment = flair.models.TextClassifier.load('en-sentiment')\r\n",
    "def estimate_flair(sentence):\r\n",
    "    s = flair.data.Sentence(sentence)\r\n",
    "    flair_sentiment.predict(s)\r\n",
    "    return s.labels\r\n",
    "\r\n"
   ]
  },
  {
   "cell_type": "code",
   "execution_count": 23,
   "metadata": {},
   "outputs": [
    {
     "data": {
      "text/html": "<div>\n<style scoped>\n    .dataframe tbody tr th:only-of-type {\n        vertical-align: middle;\n    }\n\n    .dataframe tbody tr th {\n        vertical-align: top;\n    }\n\n    .dataframe thead th {\n        text-align: right;\n    }\n</style>\n<table border=\"1\" class=\"dataframe\">\n  <thead>\n    <tr style=\"text-align: right;\">\n      <th></th>\n      <th>Query</th>\n      <th>Titles</th>\n      <th>Clean_Titles</th>\n    </tr>\n  </thead>\n  <tbody>\n    <tr>\n      <th>0</th>\n      <td>XRP</td>\n      <td>Shocking XRP Revelation (Bitcoin's Make Or Bre...</td>\n      <td>shocking xrp revelation bitcoins make or break...</td>\n    </tr>\n    <tr>\n      <th>1</th>\n      <td>XRP</td>\n      <td>only 0.0024% of people IN THE WORLD OWN 5000 X...</td>\n      <td>only  of people in the world own  xrp stop buy...</td>\n    </tr>\n    <tr>\n      <th>2</th>\n      <td>XRP</td>\n      <td>Ripple/XRP-BoA &amp; Crypto?,Ripple 12 Countries,F...</td>\n      <td>ripplexrpboa  cryptoripple  countriesflarenetw...</td>\n    </tr>\n    <tr>\n      <th>3</th>\n      <td>XRP</td>\n      <td>Ripple Wins Deposition , SEC Refuses Judge Ord...</td>\n      <td>ripple wins deposition  sec refuses judge orde...</td>\n    </tr>\n    <tr>\n      <th>4</th>\n      <td>XRP</td>\n      <td>Attorney Hogan Talks RIPPLE VICTORY at Hearing...</td>\n      <td>attorney hogan talks ripple victory at hearing...</td>\n    </tr>\n    <tr>\n      <th>...</th>\n      <td>...</td>\n      <td>...</td>\n      <td>...</td>\n    </tr>\n    <tr>\n      <th>94</th>\n      <td>DOGE</td>\n      <td>Baby doge coin Good news | wink holders be rea...</td>\n      <td>baby doge coin good news  wink holders be read...</td>\n    </tr>\n    <tr>\n      <th>95</th>\n      <td>DOGE</td>\n      <td>Dogecoin &amp; Bitcoin At A Tipping Point!! Key Le...</td>\n      <td>dogecoin  bitcoin at a tipping point key level...</td>\n    </tr>\n    <tr>\n      <th>96</th>\n      <td>DOGE</td>\n      <td>DOGECOIN CREATOR SAYS ALL CRYPTO IS BAD! DOGEC...</td>\n      <td>dogecoin creator says all crypto is bad dogeco...</td>\n    </tr>\n    <tr>\n      <th>97</th>\n      <td>DOGE</td>\n      <td>DOGECOIN BREAKING NEWS!!! INFLATION! BIG BOUNC...</td>\n      <td>dogecoin breaking news inflation big bounce  d...</td>\n    </tr>\n    <tr>\n      <th>98</th>\n      <td>DOGE</td>\n      <td>Elon Musk Revealed Dogecoin's Major Update! (M...</td>\n      <td>elon musk revealed dogecoins major update mass...</td>\n    </tr>\n  </tbody>\n</table>\n<p>99 rows × 3 columns</p>\n</div>",
      "text/plain": "   Query                                             Titles  \\\n0    XRP  Shocking XRP Revelation (Bitcoin's Make Or Bre...   \n1    XRP  only 0.0024% of people IN THE WORLD OWN 5000 X...   \n2    XRP  Ripple/XRP-BoA & Crypto?,Ripple 12 Countries,F...   \n3    XRP  Ripple Wins Deposition , SEC Refuses Judge Ord...   \n4    XRP  Attorney Hogan Talks RIPPLE VICTORY at Hearing...   \n..   ...                                                ...   \n94  DOGE  Baby doge coin Good news | wink holders be rea...   \n95  DOGE  Dogecoin & Bitcoin At A Tipping Point!! Key Le...   \n96  DOGE  DOGECOIN CREATOR SAYS ALL CRYPTO IS BAD! DOGEC...   \n97  DOGE  DOGECOIN BREAKING NEWS!!! INFLATION! BIG BOUNC...   \n98  DOGE  Elon Musk Revealed Dogecoin's Major Update! (M...   \n\n                                         Clean_Titles  \n0   shocking xrp revelation bitcoins make or break...  \n1   only  of people in the world own  xrp stop buy...  \n2   ripplexrpboa  cryptoripple  countriesflarenetw...  \n3   ripple wins deposition  sec refuses judge orde...  \n4   attorney hogan talks ripple victory at hearing...  \n..                                                ...  \n94  baby doge coin good news  wink holders be read...  \n95  dogecoin  bitcoin at a tipping point key level...  \n96  dogecoin creator says all crypto is bad dogeco...  \n97  dogecoin breaking news inflation big bounce  d...  \n98  elon musk revealed dogecoins major update mass...  \n\n[99 rows x 3 columns]"
     },
     "execution_count": 23,
     "metadata": {},
     "output_type": "execute_result"
    }
   ],
   "source": [
    "df"
   ]
  },
  {
   "cell_type": "code",
   "execution_count": 24,
   "metadata": {},
   "outputs": [],
   "source": [
    "df['NLTK_sentiment'] = df['Clean_Titles'].apply(lambda sentence: sid.polarity_scores(sentence))\r\n",
    "df['TextBlob_sentiment'] = df['Clean_Titles'].apply(lambda sentence: TextBlob(sentence).sentiment)\r\n",
    "df['Flair_sentiment'] = df['Clean_Titles'].apply(lambda sentence: estimate_flair(sentence))"
   ]
  },
  {
   "cell_type": "code",
   "execution_count": 25,
   "metadata": {},
   "outputs": [
    {
     "data": {
      "text/html": "<div>\n<style scoped>\n    .dataframe tbody tr th:only-of-type {\n        vertical-align: middle;\n    }\n\n    .dataframe tbody tr th {\n        vertical-align: top;\n    }\n\n    .dataframe thead th {\n        text-align: right;\n    }\n</style>\n<table border=\"1\" class=\"dataframe\">\n  <thead>\n    <tr style=\"text-align: right;\">\n      <th></th>\n      <th>Query</th>\n      <th>Titles</th>\n      <th>Clean_Titles</th>\n      <th>NLTK_sentiment</th>\n      <th>TextBlob_sentiment</th>\n      <th>Flair_sentiment</th>\n    </tr>\n  </thead>\n  <tbody>\n    <tr>\n      <th>0</th>\n      <td>XRP</td>\n      <td>Shocking XRP Revelation (Bitcoin's Make Or Bre...</td>\n      <td>shocking xrp revelation bitcoins make or break...</td>\n      <td>{'neg': 0.278, 'neu': 0.722, 'pos': 0.0, 'comp...</td>\n      <td>(-1.0, 1.0)</td>\n      <td>[NEGATIVE (0.8195)]</td>\n    </tr>\n    <tr>\n      <th>1</th>\n      <td>XRP</td>\n      <td>only 0.0024% of people IN THE WORLD OWN 5000 X...</td>\n      <td>only  of people in the world own  xrp stop buy...</td>\n      <td>{'neg': 0.18, 'neu': 0.82, 'pos': 0.0, 'compou...</td>\n      <td>(0.3, 1.0)</td>\n      <td>[NEGATIVE (0.7266)]</td>\n    </tr>\n    <tr>\n      <th>2</th>\n      <td>XRP</td>\n      <td>Ripple/XRP-BoA &amp; Crypto?,Ripple 12 Countries,F...</td>\n      <td>ripplexrpboa  cryptoripple  countriesflarenetw...</td>\n      <td>{'neg': 0.0, 'neu': 0.787, 'pos': 0.213, 'comp...</td>\n      <td>(0.0, 0.0)</td>\n      <td>[POSITIVE (0.983)]</td>\n    </tr>\n    <tr>\n      <th>3</th>\n      <td>XRP</td>\n      <td>Ripple Wins Deposition , SEC Refuses Judge Ord...</td>\n      <td>ripple wins deposition  sec refuses judge orde...</td>\n      <td>{'neg': 0.0, 'neu': 0.654, 'pos': 0.346, 'comp...</td>\n      <td>(0.09999999999999999, 0.4)</td>\n      <td>[POSITIVE (0.6699)]</td>\n    </tr>\n    <tr>\n      <th>4</th>\n      <td>XRP</td>\n      <td>Attorney Hogan Talks RIPPLE VICTORY at Hearing...</td>\n      <td>attorney hogan talks ripple victory at hearing...</td>\n      <td>{'neg': 0.243, 'neu': 0.757, 'pos': 0.0, 'comp...</td>\n      <td>(-0.35, 0.8)</td>\n      <td>[POSITIVE (0.9499)]</td>\n    </tr>\n    <tr>\n      <th>...</th>\n      <td>...</td>\n      <td>...</td>\n      <td>...</td>\n      <td>...</td>\n      <td>...</td>\n      <td>...</td>\n    </tr>\n    <tr>\n      <th>94</th>\n      <td>DOGE</td>\n      <td>Baby doge coin Good news | wink holders be rea...</td>\n      <td>baby doge coin good news  wink holders be read...</td>\n      <td>{'neg': 0.0, 'neu': 0.759, 'pos': 0.241, 'comp...</td>\n      <td>(0.44999999999999996, 0.55)</td>\n      <td>[POSITIVE (0.9921)]</td>\n    </tr>\n    <tr>\n      <th>95</th>\n      <td>DOGE</td>\n      <td>Dogecoin &amp; Bitcoin At A Tipping Point!! Key Le...</td>\n      <td>dogecoin  bitcoin at a tipping point key level...</td>\n      <td>{'neg': 0.0, 'neu': 1.0, 'pos': 0.0, 'compound...</td>\n      <td>(0.0, 1.0)</td>\n      <td>[POSITIVE (0.9838)]</td>\n    </tr>\n    <tr>\n      <th>96</th>\n      <td>DOGE</td>\n      <td>DOGECOIN CREATOR SAYS ALL CRYPTO IS BAD! DOGEC...</td>\n      <td>dogecoin creator says all crypto is bad dogeco...</td>\n      <td>{'neg': 0.212, 'neu': 0.788, 'pos': 0.0, 'comp...</td>\n      <td>(-0.6999999999999998, 0.6666666666666666)</td>\n      <td>[NEGATIVE (0.9999)]</td>\n    </tr>\n    <tr>\n      <th>97</th>\n      <td>DOGE</td>\n      <td>DOGECOIN BREAKING NEWS!!! INFLATION! BIG BOUNC...</td>\n      <td>dogecoin breaking news inflation big bounce  d...</td>\n      <td>{'neg': 0.0, 'neu': 1.0, 'pos': 0.0, 'compound...</td>\n      <td>(0.0, 0.1)</td>\n      <td>[POSITIVE (0.5597)]</td>\n    </tr>\n    <tr>\n      <th>98</th>\n      <td>DOGE</td>\n      <td>Elon Musk Revealed Dogecoin's Major Update! (M...</td>\n      <td>elon musk revealed dogecoins major update mass...</td>\n      <td>{'neg': 0.0, 'neu': 1.0, 'pos': 0.0, 'compound...</td>\n      <td>(0.03125, 0.75)</td>\n      <td>[NEGATIVE (0.743)]</td>\n    </tr>\n  </tbody>\n</table>\n<p>99 rows × 6 columns</p>\n</div>",
      "text/plain": "   Query                                             Titles  \\\n0    XRP  Shocking XRP Revelation (Bitcoin's Make Or Bre...   \n1    XRP  only 0.0024% of people IN THE WORLD OWN 5000 X...   \n2    XRP  Ripple/XRP-BoA & Crypto?,Ripple 12 Countries,F...   \n3    XRP  Ripple Wins Deposition , SEC Refuses Judge Ord...   \n4    XRP  Attorney Hogan Talks RIPPLE VICTORY at Hearing...   \n..   ...                                                ...   \n94  DOGE  Baby doge coin Good news | wink holders be rea...   \n95  DOGE  Dogecoin & Bitcoin At A Tipping Point!! Key Le...   \n96  DOGE  DOGECOIN CREATOR SAYS ALL CRYPTO IS BAD! DOGEC...   \n97  DOGE  DOGECOIN BREAKING NEWS!!! INFLATION! BIG BOUNC...   \n98  DOGE  Elon Musk Revealed Dogecoin's Major Update! (M...   \n\n                                         Clean_Titles  \\\n0   shocking xrp revelation bitcoins make or break...   \n1   only  of people in the world own  xrp stop buy...   \n2   ripplexrpboa  cryptoripple  countriesflarenetw...   \n3   ripple wins deposition  sec refuses judge orde...   \n4   attorney hogan talks ripple victory at hearing...   \n..                                                ...   \n94  baby doge coin good news  wink holders be read...   \n95  dogecoin  bitcoin at a tipping point key level...   \n96  dogecoin creator says all crypto is bad dogeco...   \n97  dogecoin breaking news inflation big bounce  d...   \n98  elon musk revealed dogecoins major update mass...   \n\n                                       NLTK_sentiment  \\\n0   {'neg': 0.278, 'neu': 0.722, 'pos': 0.0, 'comp...   \n1   {'neg': 0.18, 'neu': 0.82, 'pos': 0.0, 'compou...   \n2   {'neg': 0.0, 'neu': 0.787, 'pos': 0.213, 'comp...   \n3   {'neg': 0.0, 'neu': 0.654, 'pos': 0.346, 'comp...   \n4   {'neg': 0.243, 'neu': 0.757, 'pos': 0.0, 'comp...   \n..                                                ...   \n94  {'neg': 0.0, 'neu': 0.759, 'pos': 0.241, 'comp...   \n95  {'neg': 0.0, 'neu': 1.0, 'pos': 0.0, 'compound...   \n96  {'neg': 0.212, 'neu': 0.788, 'pos': 0.0, 'comp...   \n97  {'neg': 0.0, 'neu': 1.0, 'pos': 0.0, 'compound...   \n98  {'neg': 0.0, 'neu': 1.0, 'pos': 0.0, 'compound...   \n\n                           TextBlob_sentiment      Flair_sentiment  \n0                                 (-1.0, 1.0)  [NEGATIVE (0.8195)]  \n1                                  (0.3, 1.0)  [NEGATIVE (0.7266)]  \n2                                  (0.0, 0.0)   [POSITIVE (0.983)]  \n3                  (0.09999999999999999, 0.4)  [POSITIVE (0.6699)]  \n4                                (-0.35, 0.8)  [POSITIVE (0.9499)]  \n..                                        ...                  ...  \n94                (0.44999999999999996, 0.55)  [POSITIVE (0.9921)]  \n95                                 (0.0, 1.0)  [POSITIVE (0.9838)]  \n96  (-0.6999999999999998, 0.6666666666666666)  [NEGATIVE (0.9999)]  \n97                                 (0.0, 0.1)  [POSITIVE (0.5597)]  \n98                            (0.03125, 0.75)   [NEGATIVE (0.743)]  \n\n[99 rows x 6 columns]"
     },
     "execution_count": 25,
     "metadata": {},
     "output_type": "execute_result"
    }
   ],
   "source": [
    "df"
   ]
  },
  {
   "cell_type": "code",
   "execution_count": 26,
   "metadata": {},
   "outputs": [],
   "source": [
    "color_dict = {'XRP':'blue', 'BTC':'red', 'ETH':'green', 'DOGE':'black'}\r\n",
    "\r\n",
    "def nltk_line_plot(df):\r\n",
    "    # temp = pd.DataFrame()\r\n",
    "    # temp['Coin'] = df['Query']\r\n",
    "    # temp['NLTK_raw'] = df['NLTK_sentiment']\r\n",
    "    # start = \r\n",
    "    # temp['Negative'] = temp['NLTK_raw'].apply(lambda x:x['neg'])\r\n",
    "    # temp['Neutral'] = temp['NLTK_raw'].apply(lambda x:x['neu'])\r\n",
    "    # temp['Positive'] = temp['NLTK_raw'].apply(lambda x:x['pos'])\r\n",
    "    fig = go.Figure()\r\n",
    "    for i in range(df.shape[0]):\r\n",
    "        temp = df.iloc[i]\r\n",
    "        fig.add_trace(go.Scatter3d(x=[0, temp['NLTK_sentiment']['neg']], y=[0, temp['NLTK_sentiment']['neu']], z=[0, temp['NLTK_sentiment']['pos']],  mode='lines', marker=dict(color=color_dict[temp['Query']])))\r\n",
    "    fig.show()"
   ]
  },
  {
   "cell_type": "code",
   "execution_count": 27,
   "metadata": {},
   "outputs": [
    {
     "data": {
      "application/vnd.plotly.v1+json": {
       "config": {
        "plotlyServerURL": "https://plot.ly"
       },
       "data": [
        {
         "marker": {
          "color": "blue"
         },
         "mode": "lines",
         "type": "scatter3d",
         "x": [
          0,
          0.278
         ],
         "y": [
          0,
          0.722
         ],
         "z": [
          0,
          0
         ]
        },
        {
         "marker": {
          "color": "blue"
         },
         "mode": "lines",
         "type": "scatter3d",
         "x": [
          0,
          0.18
         ],
         "y": [
          0,
          0.82
         ],
         "z": [
          0,
          0
         ]
        },
        {
         "marker": {
          "color": "blue"
         },
         "mode": "lines",
         "type": "scatter3d",
         "x": [
          0,
          0
         ],
         "y": [
          0,
          0.787
         ],
         "z": [
          0,
          0.213
         ]
        },
        {
         "marker": {
          "color": "blue"
         },
         "mode": "lines",
         "type": "scatter3d",
         "x": [
          0,
          0
         ],
         "y": [
          0,
          0.654
         ],
         "z": [
          0,
          0.346
         ]
        },
        {
         "marker": {
          "color": "blue"
         },
         "mode": "lines",
         "type": "scatter3d",
         "x": [
          0,
          0.243
         ],
         "y": [
          0,
          0.757
         ],
         "z": [
          0,
          0
         ]
        },
        {
         "marker": {
          "color": "blue"
         },
         "mode": "lines",
         "type": "scatter3d",
         "x": [
          0,
          0
         ],
         "y": [
          0,
          1
         ],
         "z": [
          0,
          0
         ]
        },
        {
         "marker": {
          "color": "blue"
         },
         "mode": "lines",
         "type": "scatter3d",
         "x": [
          0,
          0
         ],
         "y": [
          0,
          1
         ],
         "z": [
          0,
          0
         ]
        },
        {
         "marker": {
          "color": "blue"
         },
         "mode": "lines",
         "type": "scatter3d",
         "x": [
          0,
          0.274
         ],
         "y": [
          0,
          0.726
         ],
         "z": [
          0,
          0
         ]
        },
        {
         "marker": {
          "color": "blue"
         },
         "mode": "lines",
         "type": "scatter3d",
         "x": [
          0,
          0
         ],
         "y": [
          0,
          1
         ],
         "z": [
          0,
          0
         ]
        },
        {
         "marker": {
          "color": "blue"
         },
         "mode": "lines",
         "type": "scatter3d",
         "x": [
          0,
          0.105
         ],
         "y": [
          0,
          0.718
         ],
         "z": [
          0,
          0.177
         ]
        },
        {
         "marker": {
          "color": "blue"
         },
         "mode": "lines",
         "type": "scatter3d",
         "x": [
          0,
          0
         ],
         "y": [
          0,
          1
         ],
         "z": [
          0,
          0
         ]
        },
        {
         "marker": {
          "color": "blue"
         },
         "mode": "lines",
         "type": "scatter3d",
         "x": [
          0,
          0
         ],
         "y": [
          0,
          1
         ],
         "z": [
          0,
          0
         ]
        },
        {
         "marker": {
          "color": "blue"
         },
         "mode": "lines",
         "type": "scatter3d",
         "x": [
          0,
          0
         ],
         "y": [
          0,
          1
         ],
         "z": [
          0,
          0
         ]
        },
        {
         "marker": {
          "color": "blue"
         },
         "mode": "lines",
         "type": "scatter3d",
         "x": [
          0,
          0.117
         ],
         "y": [
          0,
          0.556
         ],
         "z": [
          0,
          0.327
         ]
        },
        {
         "marker": {
          "color": "blue"
         },
         "mode": "lines",
         "type": "scatter3d",
         "x": [
          0,
          0
         ],
         "y": [
          0,
          0.549
         ],
         "z": [
          0,
          0.451
         ]
        },
        {
         "marker": {
          "color": "blue"
         },
         "mode": "lines",
         "type": "scatter3d",
         "x": [
          0,
          0.159
         ],
         "y": [
          0,
          0.647
         ],
         "z": [
          0,
          0.194
         ]
        },
        {
         "marker": {
          "color": "blue"
         },
         "mode": "lines",
         "type": "scatter3d",
         "x": [
          0,
          0
         ],
         "y": [
          0,
          0.73
         ],
         "z": [
          0,
          0.27
         ]
        },
        {
         "marker": {
          "color": "blue"
         },
         "mode": "lines",
         "type": "scatter3d",
         "x": [
          0,
          0
         ],
         "y": [
          0,
          1
         ],
         "z": [
          0,
          0
         ]
        },
        {
         "marker": {
          "color": "blue"
         },
         "mode": "lines",
         "type": "scatter3d",
         "x": [
          0,
          0
         ],
         "y": [
          0,
          1
         ],
         "z": [
          0,
          0
         ]
        },
        {
         "marker": {
          "color": "blue"
         },
         "mode": "lines",
         "type": "scatter3d",
         "x": [
          0,
          0.173
         ],
         "y": [
          0,
          0.63
         ],
         "z": [
          0,
          0.197
         ]
        },
        {
         "marker": {
          "color": "blue"
         },
         "mode": "lines",
         "type": "scatter3d",
         "x": [
          0,
          0.156
         ],
         "y": [
          0,
          0.844
         ],
         "z": [
          0,
          0
         ]
        },
        {
         "marker": {
          "color": "blue"
         },
         "mode": "lines",
         "type": "scatter3d",
         "x": [
          0,
          0.376
         ],
         "y": [
          0,
          0.355
         ],
         "z": [
          0,
          0.27
         ]
        },
        {
         "marker": {
          "color": "blue"
         },
         "mode": "lines",
         "type": "scatter3d",
         "x": [
          0,
          0
         ],
         "y": [
          0,
          1
         ],
         "z": [
          0,
          0
         ]
        },
        {
         "marker": {
          "color": "blue"
         },
         "mode": "lines",
         "type": "scatter3d",
         "x": [
          0,
          0.385
         ],
         "y": [
          0,
          0.462
         ],
         "z": [
          0,
          0.154
         ]
        },
        {
         "marker": {
          "color": "red"
         },
         "mode": "lines",
         "type": "scatter3d",
         "x": [
          0,
          0.355
         ],
         "y": [
          0,
          0.645
         ],
         "z": [
          0,
          0
         ]
        },
        {
         "marker": {
          "color": "red"
         },
         "mode": "lines",
         "type": "scatter3d",
         "x": [
          0,
          0
         ],
         "y": [
          0,
          1
         ],
         "z": [
          0,
          0
         ]
        },
        {
         "marker": {
          "color": "red"
         },
         "mode": "lines",
         "type": "scatter3d",
         "x": [
          0,
          0.385
         ],
         "y": [
          0,
          0.615
         ],
         "z": [
          0,
          0
         ]
        },
        {
         "marker": {
          "color": "red"
         },
         "mode": "lines",
         "type": "scatter3d",
         "x": [
          0,
          0
         ],
         "y": [
          0,
          1
         ],
         "z": [
          0,
          0
         ]
        },
        {
         "marker": {
          "color": "red"
         },
         "mode": "lines",
         "type": "scatter3d",
         "x": [
          0,
          0.218
         ],
         "y": [
          0,
          0.588
         ],
         "z": [
          0,
          0.193
         ]
        },
        {
         "marker": {
          "color": "red"
         },
         "mode": "lines",
         "type": "scatter3d",
         "x": [
          0,
          0
         ],
         "y": [
          0,
          1
         ],
         "z": [
          0,
          0
         ]
        },
        {
         "marker": {
          "color": "red"
         },
         "mode": "lines",
         "type": "scatter3d",
         "x": [
          0,
          0.172
         ],
         "y": [
          0,
          0.828
         ],
         "z": [
          0,
          0
         ]
        },
        {
         "marker": {
          "color": "red"
         },
         "mode": "lines",
         "type": "scatter3d",
         "x": [
          0,
          0.278
         ],
         "y": [
          0,
          0.722
         ],
         "z": [
          0,
          0
         ]
        },
        {
         "marker": {
          "color": "red"
         },
         "mode": "lines",
         "type": "scatter3d",
         "x": [
          0,
          0
         ],
         "y": [
          0,
          1
         ],
         "z": [
          0,
          0
         ]
        },
        {
         "marker": {
          "color": "red"
         },
         "mode": "lines",
         "type": "scatter3d",
         "x": [
          0,
          0
         ],
         "y": [
          0,
          1
         ],
         "z": [
          0,
          0
         ]
        },
        {
         "marker": {
          "color": "red"
         },
         "mode": "lines",
         "type": "scatter3d",
         "x": [
          0,
          0
         ],
         "y": [
          0,
          1
         ],
         "z": [
          0,
          0
         ]
        },
        {
         "marker": {
          "color": "red"
         },
         "mode": "lines",
         "type": "scatter3d",
         "x": [
          0,
          0.149
         ],
         "y": [
          0,
          0.851
         ],
         "z": [
          0,
          0
         ]
        },
        {
         "marker": {
          "color": "red"
         },
         "mode": "lines",
         "type": "scatter3d",
         "x": [
          0,
          0
         ],
         "y": [
          0,
          1
         ],
         "z": [
          0,
          0
         ]
        },
        {
         "marker": {
          "color": "red"
         },
         "mode": "lines",
         "type": "scatter3d",
         "x": [
          0,
          0
         ],
         "y": [
          0,
          1
         ],
         "z": [
          0,
          0
         ]
        },
        {
         "marker": {
          "color": "red"
         },
         "mode": "lines",
         "type": "scatter3d",
         "x": [
          0,
          0
         ],
         "y": [
          0,
          1
         ],
         "z": [
          0,
          0
         ]
        },
        {
         "marker": {
          "color": "red"
         },
         "mode": "lines",
         "type": "scatter3d",
         "x": [
          0,
          0.231
         ],
         "y": [
          0,
          0.769
         ],
         "z": [
          0,
          0
         ]
        },
        {
         "marker": {
          "color": "red"
         },
         "mode": "lines",
         "type": "scatter3d",
         "x": [
          0,
          0
         ],
         "y": [
          0,
          0.78
         ],
         "z": [
          0,
          0.22
         ]
        },
        {
         "marker": {
          "color": "red"
         },
         "mode": "lines",
         "type": "scatter3d",
         "x": [
          0,
          0
         ],
         "y": [
          0,
          1
         ],
         "z": [
          0,
          0
         ]
        },
        {
         "marker": {
          "color": "red"
         },
         "mode": "lines",
         "type": "scatter3d",
         "x": [
          0,
          0.106
         ],
         "y": [
          0,
          0.894
         ],
         "z": [
          0,
          0
         ]
        },
        {
         "marker": {
          "color": "red"
         },
         "mode": "lines",
         "type": "scatter3d",
         "x": [
          0,
          0
         ],
         "y": [
          0,
          1
         ],
         "z": [
          0,
          0
         ]
        },
        {
         "marker": {
          "color": "red"
         },
         "mode": "lines",
         "type": "scatter3d",
         "x": [
          0,
          0.351
         ],
         "y": [
          0,
          0.649
         ],
         "z": [
          0,
          0
         ]
        },
        {
         "marker": {
          "color": "red"
         },
         "mode": "lines",
         "type": "scatter3d",
         "x": [
          0,
          0
         ],
         "y": [
          0,
          1
         ],
         "z": [
          0,
          0
         ]
        },
        {
         "marker": {
          "color": "red"
         },
         "mode": "lines",
         "type": "scatter3d",
         "x": [
          0,
          0
         ],
         "y": [
          0,
          1
         ],
         "z": [
          0,
          0
         ]
        },
        {
         "marker": {
          "color": "red"
         },
         "mode": "lines",
         "type": "scatter3d",
         "x": [
          0,
          0
         ],
         "y": [
          0,
          1
         ],
         "z": [
          0,
          0
         ]
        },
        {
         "marker": {
          "color": "red"
         },
         "mode": "lines",
         "type": "scatter3d",
         "x": [
          0,
          0
         ],
         "y": [
          0,
          1
         ],
         "z": [
          0,
          0
         ]
        },
        {
         "marker": {
          "color": "red"
         },
         "mode": "lines",
         "type": "scatter3d",
         "x": [
          0,
          0.316
         ],
         "y": [
          0,
          0.684
         ],
         "z": [
          0,
          0
         ]
        },
        {
         "marker": {
          "color": "green"
         },
         "mode": "lines",
         "type": "scatter3d",
         "x": [
          0,
          0
         ],
         "y": [
          0,
          1
         ],
         "z": [
          0,
          0
         ]
        },
        {
         "marker": {
          "color": "green"
         },
         "mode": "lines",
         "type": "scatter3d",
         "x": [
          0,
          0
         ],
         "y": [
          0,
          1
         ],
         "z": [
          0,
          0
         ]
        },
        {
         "marker": {
          "color": "green"
         },
         "mode": "lines",
         "type": "scatter3d",
         "x": [
          0,
          0
         ],
         "y": [
          0,
          1
         ],
         "z": [
          0,
          0
         ]
        },
        {
         "marker": {
          "color": "green"
         },
         "mode": "lines",
         "type": "scatter3d",
         "x": [
          0,
          0.219
         ],
         "y": [
          0,
          0.781
         ],
         "z": [
          0,
          0
         ]
        },
        {
         "marker": {
          "color": "green"
         },
         "mode": "lines",
         "type": "scatter3d",
         "x": [
          0,
          0
         ],
         "y": [
          0,
          1
         ],
         "z": [
          0,
          0
         ]
        },
        {
         "marker": {
          "color": "green"
         },
         "mode": "lines",
         "type": "scatter3d",
         "x": [
          0,
          0
         ],
         "y": [
          0,
          0.859
         ],
         "z": [
          0,
          0.141
         ]
        },
        {
         "marker": {
          "color": "green"
         },
         "mode": "lines",
         "type": "scatter3d",
         "x": [
          0,
          0
         ],
         "y": [
          0,
          1
         ],
         "z": [
          0,
          0
         ]
        },
        {
         "marker": {
          "color": "green"
         },
         "mode": "lines",
         "type": "scatter3d",
         "x": [
          0,
          0.117
         ],
         "y": [
          0,
          0.745
         ],
         "z": [
          0,
          0.138
         ]
        },
        {
         "marker": {
          "color": "green"
         },
         "mode": "lines",
         "type": "scatter3d",
         "x": [
          0,
          0.203
         ],
         "y": [
          0,
          0.797
         ],
         "z": [
          0,
          0
         ]
        },
        {
         "marker": {
          "color": "green"
         },
         "mode": "lines",
         "type": "scatter3d",
         "x": [
          0,
          0
         ],
         "y": [
          0,
          1
         ],
         "z": [
          0,
          0
         ]
        },
        {
         "marker": {
          "color": "green"
         },
         "mode": "lines",
         "type": "scatter3d",
         "x": [
          0,
          0
         ],
         "y": [
          0,
          1
         ],
         "z": [
          0,
          0
         ]
        },
        {
         "marker": {
          "color": "green"
         },
         "mode": "lines",
         "type": "scatter3d",
         "x": [
          0,
          0
         ],
         "y": [
          0,
          1
         ],
         "z": [
          0,
          0
         ]
        },
        {
         "marker": {
          "color": "green"
         },
         "mode": "lines",
         "type": "scatter3d",
         "x": [
          0,
          0.206
         ],
         "y": [
          0,
          0.794
         ],
         "z": [
          0,
          0
         ]
        },
        {
         "marker": {
          "color": "green"
         },
         "mode": "lines",
         "type": "scatter3d",
         "x": [
          0,
          0
         ],
         "y": [
          0,
          1
         ],
         "z": [
          0,
          0
         ]
        },
        {
         "marker": {
          "color": "green"
         },
         "mode": "lines",
         "type": "scatter3d",
         "x": [
          0,
          0.165
         ],
         "y": [
          0,
          0.752
         ],
         "z": [
          0,
          0.083
         ]
        },
        {
         "marker": {
          "color": "green"
         },
         "mode": "lines",
         "type": "scatter3d",
         "x": [
          0,
          0.155
         ],
         "y": [
          0,
          0.845
         ],
         "z": [
          0,
          0
         ]
        },
        {
         "marker": {
          "color": "green"
         },
         "mode": "lines",
         "type": "scatter3d",
         "x": [
          0,
          0
         ],
         "y": [
          0,
          1
         ],
         "z": [
          0,
          0
         ]
        },
        {
         "marker": {
          "color": "green"
         },
         "mode": "lines",
         "type": "scatter3d",
         "x": [
          0,
          0
         ],
         "y": [
          0,
          1
         ],
         "z": [
          0,
          0
         ]
        },
        {
         "marker": {
          "color": "green"
         },
         "mode": "lines",
         "type": "scatter3d",
         "x": [
          0,
          0
         ],
         "y": [
          0,
          1
         ],
         "z": [
          0,
          0
         ]
        },
        {
         "marker": {
          "color": "green"
         },
         "mode": "lines",
         "type": "scatter3d",
         "x": [
          0,
          0
         ],
         "y": [
          0,
          1
         ],
         "z": [
          0,
          0
         ]
        },
        {
         "marker": {
          "color": "green"
         },
         "mode": "lines",
         "type": "scatter3d",
         "x": [
          0,
          0
         ],
         "y": [
          0,
          1
         ],
         "z": [
          0,
          0
         ]
        },
        {
         "marker": {
          "color": "green"
         },
         "mode": "lines",
         "type": "scatter3d",
         "x": [
          0,
          0.273
         ],
         "y": [
          0,
          0.727
         ],
         "z": [
          0,
          0
         ]
        },
        {
         "marker": {
          "color": "green"
         },
         "mode": "lines",
         "type": "scatter3d",
         "x": [
          0,
          0.149
         ],
         "y": [
          0,
          0.851
         ],
         "z": [
          0,
          0
         ]
        },
        {
         "marker": {
          "color": "green"
         },
         "mode": "lines",
         "type": "scatter3d",
         "x": [
          0,
          0
         ],
         "y": [
          0,
          0.789
         ],
         "z": [
          0,
          0.211
         ]
        },
        {
         "marker": {
          "color": "green"
         },
         "mode": "lines",
         "type": "scatter3d",
         "x": [
          0,
          0
         ],
         "y": [
          0,
          1
         ],
         "z": [
          0,
          0
         ]
        },
        {
         "marker": {
          "color": "green"
         },
         "mode": "lines",
         "type": "scatter3d",
         "x": [
          0,
          0
         ],
         "y": [
          0,
          1
         ],
         "z": [
          0,
          0
         ]
        },
        {
         "marker": {
          "color": "black"
         },
         "mode": "lines",
         "type": "scatter3d",
         "x": [
          0,
          0.762
         ],
         "y": [
          0,
          0.238
         ],
         "z": [
          0,
          0
         ]
        },
        {
         "marker": {
          "color": "black"
         },
         "mode": "lines",
         "type": "scatter3d",
         "x": [
          0,
          0.172
         ],
         "y": [
          0,
          0.828
         ],
         "z": [
          0,
          0
         ]
        },
        {
         "marker": {
          "color": "black"
         },
         "mode": "lines",
         "type": "scatter3d",
         "x": [
          0,
          0.324
         ],
         "y": [
          0,
          0.676
         ],
         "z": [
          0,
          0
         ]
        },
        {
         "marker": {
          "color": "black"
         },
         "mode": "lines",
         "type": "scatter3d",
         "x": [
          0,
          0.184
         ],
         "y": [
          0,
          0.816
         ],
         "z": [
          0,
          0
         ]
        },
        {
         "marker": {
          "color": "black"
         },
         "mode": "lines",
         "type": "scatter3d",
         "x": [
          0,
          0
         ],
         "y": [
          0,
          0.796
         ],
         "z": [
          0,
          0.204
         ]
        },
        {
         "marker": {
          "color": "black"
         },
         "mode": "lines",
         "type": "scatter3d",
         "x": [
          0,
          0.375
         ],
         "y": [
          0,
          0.625
         ],
         "z": [
          0,
          0
         ]
        },
        {
         "marker": {
          "color": "black"
         },
         "mode": "lines",
         "type": "scatter3d",
         "x": [
          0,
          0
         ],
         "y": [
          0,
          1
         ],
         "z": [
          0,
          0
         ]
        },
        {
         "marker": {
          "color": "black"
         },
         "mode": "lines",
         "type": "scatter3d",
         "x": [
          0,
          0
         ],
         "y": [
          0,
          1
         ],
         "z": [
          0,
          0
         ]
        },
        {
         "marker": {
          "color": "black"
         },
         "mode": "lines",
         "type": "scatter3d",
         "x": [
          0,
          0
         ],
         "y": [
          0,
          1
         ],
         "z": [
          0,
          0
         ]
        },
        {
         "marker": {
          "color": "black"
         },
         "mode": "lines",
         "type": "scatter3d",
         "x": [
          0,
          0
         ],
         "y": [
          0,
          0.615
         ],
         "z": [
          0,
          0.385
         ]
        },
        {
         "marker": {
          "color": "black"
         },
         "mode": "lines",
         "type": "scatter3d",
         "x": [
          0,
          0.271
         ],
         "y": [
          0,
          0.729
         ],
         "z": [
          0,
          0
         ]
        },
        {
         "marker": {
          "color": "black"
         },
         "mode": "lines",
         "type": "scatter3d",
         "x": [
          0,
          0.271
         ],
         "y": [
          0,
          0.729
         ],
         "z": [
          0,
          0
         ]
        },
        {
         "marker": {
          "color": "black"
         },
         "mode": "lines",
         "type": "scatter3d",
         "x": [
          0,
          0.192
         ],
         "y": [
          0,
          0.808
         ],
         "z": [
          0,
          0
         ]
        },
        {
         "marker": {
          "color": "black"
         },
         "mode": "lines",
         "type": "scatter3d",
         "x": [
          0,
          0
         ],
         "y": [
          0,
          0.748
         ],
         "z": [
          0,
          0.252
         ]
        },
        {
         "marker": {
          "color": "black"
         },
         "mode": "lines",
         "type": "scatter3d",
         "x": [
          0,
          0
         ],
         "y": [
          0,
          1
         ],
         "z": [
          0,
          0
         ]
        },
        {
         "marker": {
          "color": "black"
         },
         "mode": "lines",
         "type": "scatter3d",
         "x": [
          0,
          0.36
         ],
         "y": [
          0,
          0.4
         ],
         "z": [
          0,
          0.24
         ]
        },
        {
         "marker": {
          "color": "black"
         },
         "mode": "lines",
         "type": "scatter3d",
         "x": [
          0,
          0
         ],
         "y": [
          0,
          1
         ],
         "z": [
          0,
          0
         ]
        },
        {
         "marker": {
          "color": "black"
         },
         "mode": "lines",
         "type": "scatter3d",
         "x": [
          0,
          0.462
         ],
         "y": [
          0,
          0.538
         ],
         "z": [
          0,
          0
         ]
        },
        {
         "marker": {
          "color": "black"
         },
         "mode": "lines",
         "type": "scatter3d",
         "x": [
          0,
          0
         ],
         "y": [
          0,
          0.759
         ],
         "z": [
          0,
          0.241
         ]
        },
        {
         "marker": {
          "color": "black"
         },
         "mode": "lines",
         "type": "scatter3d",
         "x": [
          0,
          0
         ],
         "y": [
          0,
          1
         ],
         "z": [
          0,
          0
         ]
        },
        {
         "marker": {
          "color": "black"
         },
         "mode": "lines",
         "type": "scatter3d",
         "x": [
          0,
          0.212
         ],
         "y": [
          0,
          0.788
         ],
         "z": [
          0,
          0
         ]
        },
        {
         "marker": {
          "color": "black"
         },
         "mode": "lines",
         "type": "scatter3d",
         "x": [
          0,
          0
         ],
         "y": [
          0,
          1
         ],
         "z": [
          0,
          0
         ]
        },
        {
         "marker": {
          "color": "black"
         },
         "mode": "lines",
         "type": "scatter3d",
         "x": [
          0,
          0
         ],
         "y": [
          0,
          1
         ],
         "z": [
          0,
          0
         ]
        }
       ],
       "layout": {
        "template": {
         "data": {
          "bar": [
           {
            "error_x": {
             "color": "#2a3f5f"
            },
            "error_y": {
             "color": "#2a3f5f"
            },
            "marker": {
             "line": {
              "color": "#E5ECF6",
              "width": 0.5
             }
            },
            "type": "bar"
           }
          ],
          "barpolar": [
           {
            "marker": {
             "line": {
              "color": "#E5ECF6",
              "width": 0.5
             }
            },
            "type": "barpolar"
           }
          ],
          "carpet": [
           {
            "aaxis": {
             "endlinecolor": "#2a3f5f",
             "gridcolor": "white",
             "linecolor": "white",
             "minorgridcolor": "white",
             "startlinecolor": "#2a3f5f"
            },
            "baxis": {
             "endlinecolor": "#2a3f5f",
             "gridcolor": "white",
             "linecolor": "white",
             "minorgridcolor": "white",
             "startlinecolor": "#2a3f5f"
            },
            "type": "carpet"
           }
          ],
          "choropleth": [
           {
            "colorbar": {
             "outlinewidth": 0,
             "ticks": ""
            },
            "type": "choropleth"
           }
          ],
          "contour": [
           {
            "colorbar": {
             "outlinewidth": 0,
             "ticks": ""
            },
            "colorscale": [
             [
              0,
              "#0d0887"
             ],
             [
              0.1111111111111111,
              "#46039f"
             ],
             [
              0.2222222222222222,
              "#7201a8"
             ],
             [
              0.3333333333333333,
              "#9c179e"
             ],
             [
              0.4444444444444444,
              "#bd3786"
             ],
             [
              0.5555555555555556,
              "#d8576b"
             ],
             [
              0.6666666666666666,
              "#ed7953"
             ],
             [
              0.7777777777777778,
              "#fb9f3a"
             ],
             [
              0.8888888888888888,
              "#fdca26"
             ],
             [
              1,
              "#f0f921"
             ]
            ],
            "type": "contour"
           }
          ],
          "contourcarpet": [
           {
            "colorbar": {
             "outlinewidth": 0,
             "ticks": ""
            },
            "type": "contourcarpet"
           }
          ],
          "heatmap": [
           {
            "colorbar": {
             "outlinewidth": 0,
             "ticks": ""
            },
            "colorscale": [
             [
              0,
              "#0d0887"
             ],
             [
              0.1111111111111111,
              "#46039f"
             ],
             [
              0.2222222222222222,
              "#7201a8"
             ],
             [
              0.3333333333333333,
              "#9c179e"
             ],
             [
              0.4444444444444444,
              "#bd3786"
             ],
             [
              0.5555555555555556,
              "#d8576b"
             ],
             [
              0.6666666666666666,
              "#ed7953"
             ],
             [
              0.7777777777777778,
              "#fb9f3a"
             ],
             [
              0.8888888888888888,
              "#fdca26"
             ],
             [
              1,
              "#f0f921"
             ]
            ],
            "type": "heatmap"
           }
          ],
          "heatmapgl": [
           {
            "colorbar": {
             "outlinewidth": 0,
             "ticks": ""
            },
            "colorscale": [
             [
              0,
              "#0d0887"
             ],
             [
              0.1111111111111111,
              "#46039f"
             ],
             [
              0.2222222222222222,
              "#7201a8"
             ],
             [
              0.3333333333333333,
              "#9c179e"
             ],
             [
              0.4444444444444444,
              "#bd3786"
             ],
             [
              0.5555555555555556,
              "#d8576b"
             ],
             [
              0.6666666666666666,
              "#ed7953"
             ],
             [
              0.7777777777777778,
              "#fb9f3a"
             ],
             [
              0.8888888888888888,
              "#fdca26"
             ],
             [
              1,
              "#f0f921"
             ]
            ],
            "type": "heatmapgl"
           }
          ],
          "histogram": [
           {
            "marker": {
             "colorbar": {
              "outlinewidth": 0,
              "ticks": ""
             }
            },
            "type": "histogram"
           }
          ],
          "histogram2d": [
           {
            "colorbar": {
             "outlinewidth": 0,
             "ticks": ""
            },
            "colorscale": [
             [
              0,
              "#0d0887"
             ],
             [
              0.1111111111111111,
              "#46039f"
             ],
             [
              0.2222222222222222,
              "#7201a8"
             ],
             [
              0.3333333333333333,
              "#9c179e"
             ],
             [
              0.4444444444444444,
              "#bd3786"
             ],
             [
              0.5555555555555556,
              "#d8576b"
             ],
             [
              0.6666666666666666,
              "#ed7953"
             ],
             [
              0.7777777777777778,
              "#fb9f3a"
             ],
             [
              0.8888888888888888,
              "#fdca26"
             ],
             [
              1,
              "#f0f921"
             ]
            ],
            "type": "histogram2d"
           }
          ],
          "histogram2dcontour": [
           {
            "colorbar": {
             "outlinewidth": 0,
             "ticks": ""
            },
            "colorscale": [
             [
              0,
              "#0d0887"
             ],
             [
              0.1111111111111111,
              "#46039f"
             ],
             [
              0.2222222222222222,
              "#7201a8"
             ],
             [
              0.3333333333333333,
              "#9c179e"
             ],
             [
              0.4444444444444444,
              "#bd3786"
             ],
             [
              0.5555555555555556,
              "#d8576b"
             ],
             [
              0.6666666666666666,
              "#ed7953"
             ],
             [
              0.7777777777777778,
              "#fb9f3a"
             ],
             [
              0.8888888888888888,
              "#fdca26"
             ],
             [
              1,
              "#f0f921"
             ]
            ],
            "type": "histogram2dcontour"
           }
          ],
          "mesh3d": [
           {
            "colorbar": {
             "outlinewidth": 0,
             "ticks": ""
            },
            "type": "mesh3d"
           }
          ],
          "parcoords": [
           {
            "line": {
             "colorbar": {
              "outlinewidth": 0,
              "ticks": ""
             }
            },
            "type": "parcoords"
           }
          ],
          "pie": [
           {
            "automargin": true,
            "type": "pie"
           }
          ],
          "scatter": [
           {
            "marker": {
             "colorbar": {
              "outlinewidth": 0,
              "ticks": ""
             }
            },
            "type": "scatter"
           }
          ],
          "scatter3d": [
           {
            "line": {
             "colorbar": {
              "outlinewidth": 0,
              "ticks": ""
             }
            },
            "marker": {
             "colorbar": {
              "outlinewidth": 0,
              "ticks": ""
             }
            },
            "type": "scatter3d"
           }
          ],
          "scattercarpet": [
           {
            "marker": {
             "colorbar": {
              "outlinewidth": 0,
              "ticks": ""
             }
            },
            "type": "scattercarpet"
           }
          ],
          "scattergeo": [
           {
            "marker": {
             "colorbar": {
              "outlinewidth": 0,
              "ticks": ""
             }
            },
            "type": "scattergeo"
           }
          ],
          "scattergl": [
           {
            "marker": {
             "colorbar": {
              "outlinewidth": 0,
              "ticks": ""
             }
            },
            "type": "scattergl"
           }
          ],
          "scattermapbox": [
           {
            "marker": {
             "colorbar": {
              "outlinewidth": 0,
              "ticks": ""
             }
            },
            "type": "scattermapbox"
           }
          ],
          "scatterpolar": [
           {
            "marker": {
             "colorbar": {
              "outlinewidth": 0,
              "ticks": ""
             }
            },
            "type": "scatterpolar"
           }
          ],
          "scatterpolargl": [
           {
            "marker": {
             "colorbar": {
              "outlinewidth": 0,
              "ticks": ""
             }
            },
            "type": "scatterpolargl"
           }
          ],
          "scatterternary": [
           {
            "marker": {
             "colorbar": {
              "outlinewidth": 0,
              "ticks": ""
             }
            },
            "type": "scatterternary"
           }
          ],
          "surface": [
           {
            "colorbar": {
             "outlinewidth": 0,
             "ticks": ""
            },
            "colorscale": [
             [
              0,
              "#0d0887"
             ],
             [
              0.1111111111111111,
              "#46039f"
             ],
             [
              0.2222222222222222,
              "#7201a8"
             ],
             [
              0.3333333333333333,
              "#9c179e"
             ],
             [
              0.4444444444444444,
              "#bd3786"
             ],
             [
              0.5555555555555556,
              "#d8576b"
             ],
             [
              0.6666666666666666,
              "#ed7953"
             ],
             [
              0.7777777777777778,
              "#fb9f3a"
             ],
             [
              0.8888888888888888,
              "#fdca26"
             ],
             [
              1,
              "#f0f921"
             ]
            ],
            "type": "surface"
           }
          ],
          "table": [
           {
            "cells": {
             "fill": {
              "color": "#EBF0F8"
             },
             "line": {
              "color": "white"
             }
            },
            "header": {
             "fill": {
              "color": "#C8D4E3"
             },
             "line": {
              "color": "white"
             }
            },
            "type": "table"
           }
          ]
         },
         "layout": {
          "annotationdefaults": {
           "arrowcolor": "#2a3f5f",
           "arrowhead": 0,
           "arrowwidth": 1
          },
          "autotypenumbers": "strict",
          "coloraxis": {
           "colorbar": {
            "outlinewidth": 0,
            "ticks": ""
           }
          },
          "colorscale": {
           "diverging": [
            [
             0,
             "#8e0152"
            ],
            [
             0.1,
             "#c51b7d"
            ],
            [
             0.2,
             "#de77ae"
            ],
            [
             0.3,
             "#f1b6da"
            ],
            [
             0.4,
             "#fde0ef"
            ],
            [
             0.5,
             "#f7f7f7"
            ],
            [
             0.6,
             "#e6f5d0"
            ],
            [
             0.7,
             "#b8e186"
            ],
            [
             0.8,
             "#7fbc41"
            ],
            [
             0.9,
             "#4d9221"
            ],
            [
             1,
             "#276419"
            ]
           ],
           "sequential": [
            [
             0,
             "#0d0887"
            ],
            [
             0.1111111111111111,
             "#46039f"
            ],
            [
             0.2222222222222222,
             "#7201a8"
            ],
            [
             0.3333333333333333,
             "#9c179e"
            ],
            [
             0.4444444444444444,
             "#bd3786"
            ],
            [
             0.5555555555555556,
             "#d8576b"
            ],
            [
             0.6666666666666666,
             "#ed7953"
            ],
            [
             0.7777777777777778,
             "#fb9f3a"
            ],
            [
             0.8888888888888888,
             "#fdca26"
            ],
            [
             1,
             "#f0f921"
            ]
           ],
           "sequentialminus": [
            [
             0,
             "#0d0887"
            ],
            [
             0.1111111111111111,
             "#46039f"
            ],
            [
             0.2222222222222222,
             "#7201a8"
            ],
            [
             0.3333333333333333,
             "#9c179e"
            ],
            [
             0.4444444444444444,
             "#bd3786"
            ],
            [
             0.5555555555555556,
             "#d8576b"
            ],
            [
             0.6666666666666666,
             "#ed7953"
            ],
            [
             0.7777777777777778,
             "#fb9f3a"
            ],
            [
             0.8888888888888888,
             "#fdca26"
            ],
            [
             1,
             "#f0f921"
            ]
           ]
          },
          "colorway": [
           "#636efa",
           "#EF553B",
           "#00cc96",
           "#ab63fa",
           "#FFA15A",
           "#19d3f3",
           "#FF6692",
           "#B6E880",
           "#FF97FF",
           "#FECB52"
          ],
          "font": {
           "color": "#2a3f5f"
          },
          "geo": {
           "bgcolor": "white",
           "lakecolor": "white",
           "landcolor": "#E5ECF6",
           "showlakes": true,
           "showland": true,
           "subunitcolor": "white"
          },
          "hoverlabel": {
           "align": "left"
          },
          "hovermode": "closest",
          "mapbox": {
           "style": "light"
          },
          "paper_bgcolor": "white",
          "plot_bgcolor": "#E5ECF6",
          "polar": {
           "angularaxis": {
            "gridcolor": "white",
            "linecolor": "white",
            "ticks": ""
           },
           "bgcolor": "#E5ECF6",
           "radialaxis": {
            "gridcolor": "white",
            "linecolor": "white",
            "ticks": ""
           }
          },
          "scene": {
           "xaxis": {
            "backgroundcolor": "#E5ECF6",
            "gridcolor": "white",
            "gridwidth": 2,
            "linecolor": "white",
            "showbackground": true,
            "ticks": "",
            "zerolinecolor": "white"
           },
           "yaxis": {
            "backgroundcolor": "#E5ECF6",
            "gridcolor": "white",
            "gridwidth": 2,
            "linecolor": "white",
            "showbackground": true,
            "ticks": "",
            "zerolinecolor": "white"
           },
           "zaxis": {
            "backgroundcolor": "#E5ECF6",
            "gridcolor": "white",
            "gridwidth": 2,
            "linecolor": "white",
            "showbackground": true,
            "ticks": "",
            "zerolinecolor": "white"
           }
          },
          "shapedefaults": {
           "line": {
            "color": "#2a3f5f"
           }
          },
          "ternary": {
           "aaxis": {
            "gridcolor": "white",
            "linecolor": "white",
            "ticks": ""
           },
           "baxis": {
            "gridcolor": "white",
            "linecolor": "white",
            "ticks": ""
           },
           "bgcolor": "#E5ECF6",
           "caxis": {
            "gridcolor": "white",
            "linecolor": "white",
            "ticks": ""
           }
          },
          "title": {
           "x": 0.05
          },
          "xaxis": {
           "automargin": true,
           "gridcolor": "white",
           "linecolor": "white",
           "ticks": "",
           "title": {
            "standoff": 15
           },
           "zerolinecolor": "white",
           "zerolinewidth": 2
          },
          "yaxis": {
           "automargin": true,
           "gridcolor": "white",
           "linecolor": "white",
           "ticks": "",
           "title": {
            "standoff": 15
           },
           "zerolinecolor": "white",
           "zerolinewidth": 2
          }
         }
        }
       }
      }
     },
     "metadata": {
      "transient": {}
     },
     "output_type": "display_data"
    }
   ],
   "source": [
    "nltk_line_plot(df)"
   ]
  },
  {
   "cell_type": "code",
   "execution_count": 29,
   "metadata": {},
   "outputs": [
    {
     "data": {
      "text/html": "<div>\n<style scoped>\n    .dataframe tbody tr th:only-of-type {\n        vertical-align: middle;\n    }\n\n    .dataframe tbody tr th {\n        vertical-align: top;\n    }\n\n    .dataframe thead th {\n        text-align: right;\n    }\n</style>\n<table border=\"1\" class=\"dataframe\">\n  <thead>\n    <tr style=\"text-align: right;\">\n      <th></th>\n      <th>Query</th>\n      <th>Titles</th>\n      <th>Clean_Titles</th>\n      <th>NLTK_sentiment</th>\n      <th>TextBlob_sentiment</th>\n      <th>Flair_sentiment</th>\n      <th>NLTKneg</th>\n      <th>NLTKneu</th>\n      <th>NLTKpos</th>\n      <th>NLTKcompound</th>\n    </tr>\n  </thead>\n  <tbody>\n    <tr>\n      <th>0</th>\n      <td>XRP</td>\n      <td>Shocking XRP Revelation (Bitcoin's Make Or Bre...</td>\n      <td>shocking xrp revelation bitcoins make or break...</td>\n      <td>{'neg': 0.278, 'neu': 0.722, 'pos': 0.0, 'comp...</td>\n      <td>(-1.0, 1.0)</td>\n      <td>[NEGATIVE (0.8195)]</td>\n      <td>0.278</td>\n      <td>0.722</td>\n      <td>0.000</td>\n      <td>-0.4019</td>\n    </tr>\n    <tr>\n      <th>1</th>\n      <td>XRP</td>\n      <td>only 0.0024% of people IN THE WORLD OWN 5000 X...</td>\n      <td>only  of people in the world own  xrp stop buy...</td>\n      <td>{'neg': 0.18, 'neu': 0.82, 'pos': 0.0, 'compou...</td>\n      <td>(0.3, 1.0)</td>\n      <td>[NEGATIVE (0.7266)]</td>\n      <td>0.180</td>\n      <td>0.820</td>\n      <td>0.000</td>\n      <td>-0.2960</td>\n    </tr>\n    <tr>\n      <th>2</th>\n      <td>XRP</td>\n      <td>Ripple/XRP-BoA &amp; Crypto?,Ripple 12 Countries,F...</td>\n      <td>ripplexrpboa  cryptoripple  countriesflarenetw...</td>\n      <td>{'neg': 0.0, 'neu': 0.787, 'pos': 0.213, 'comp...</td>\n      <td>(0.0, 0.0)</td>\n      <td>[POSITIVE (0.983)]</td>\n      <td>0.000</td>\n      <td>0.787</td>\n      <td>0.213</td>\n      <td>0.2263</td>\n    </tr>\n    <tr>\n      <th>3</th>\n      <td>XRP</td>\n      <td>Ripple Wins Deposition , SEC Refuses Judge Ord...</td>\n      <td>ripple wins deposition  sec refuses judge orde...</td>\n      <td>{'neg': 0.0, 'neu': 0.654, 'pos': 0.346, 'comp...</td>\n      <td>(0.09999999999999999, 0.4)</td>\n      <td>[POSITIVE (0.6699)]</td>\n      <td>0.000</td>\n      <td>0.654</td>\n      <td>0.346</td>\n      <td>0.5719</td>\n    </tr>\n    <tr>\n      <th>4</th>\n      <td>XRP</td>\n      <td>Attorney Hogan Talks RIPPLE VICTORY at Hearing...</td>\n      <td>attorney hogan talks ripple victory at hearing...</td>\n      <td>{'neg': 0.243, 'neu': 0.757, 'pos': 0.0, 'comp...</td>\n      <td>(-0.35, 0.8)</td>\n      <td>[POSITIVE (0.9499)]</td>\n      <td>0.243</td>\n      <td>0.757</td>\n      <td>0.000</td>\n      <td>-0.5423</td>\n    </tr>\n  </tbody>\n</table>\n</div>",
      "text/plain": "  Query                                             Titles  \\\n0   XRP  Shocking XRP Revelation (Bitcoin's Make Or Bre...   \n1   XRP  only 0.0024% of people IN THE WORLD OWN 5000 X...   \n2   XRP  Ripple/XRP-BoA & Crypto?,Ripple 12 Countries,F...   \n3   XRP  Ripple Wins Deposition , SEC Refuses Judge Ord...   \n4   XRP  Attorney Hogan Talks RIPPLE VICTORY at Hearing...   \n\n                                        Clean_Titles  \\\n0  shocking xrp revelation bitcoins make or break...   \n1  only  of people in the world own  xrp stop buy...   \n2  ripplexrpboa  cryptoripple  countriesflarenetw...   \n3  ripple wins deposition  sec refuses judge orde...   \n4  attorney hogan talks ripple victory at hearing...   \n\n                                      NLTK_sentiment  \\\n0  {'neg': 0.278, 'neu': 0.722, 'pos': 0.0, 'comp...   \n1  {'neg': 0.18, 'neu': 0.82, 'pos': 0.0, 'compou...   \n2  {'neg': 0.0, 'neu': 0.787, 'pos': 0.213, 'comp...   \n3  {'neg': 0.0, 'neu': 0.654, 'pos': 0.346, 'comp...   \n4  {'neg': 0.243, 'neu': 0.757, 'pos': 0.0, 'comp...   \n\n           TextBlob_sentiment      Flair_sentiment  NLTKneg  NLTKneu  NLTKpos  \\\n0                 (-1.0, 1.0)  [NEGATIVE (0.8195)]    0.278    0.722    0.000   \n1                  (0.3, 1.0)  [NEGATIVE (0.7266)]    0.180    0.820    0.000   \n2                  (0.0, 0.0)   [POSITIVE (0.983)]    0.000    0.787    0.213   \n3  (0.09999999999999999, 0.4)  [POSITIVE (0.6699)]    0.000    0.654    0.346   \n4                (-0.35, 0.8)  [POSITIVE (0.9499)]    0.243    0.757    0.000   \n\n   NLTKcompound  \n0       -0.4019  \n1       -0.2960  \n2        0.2263  \n3        0.5719  \n4       -0.5423  "
     },
     "execution_count": 29,
     "metadata": {},
     "output_type": "execute_result"
    }
   ],
   "source": [
    "#flatten dict cols\r\n",
    "def flatten_dict(df, column, optional_prefix=''):\r\n",
    "    \"\"\"Return each item in a dictionary as a new column.\"\"\"\r\n",
    "    keys = df[column].iloc[0].keys()\r\n",
    "    for key in keys:\r\n",
    "        df[optional_prefix+key] = df[column].apply(lambda x: x[key])\r\n",
    "    return df\r\n",
    "\r\n",
    "df = flatten_dict(df, 'NLTK_sentiment', optional_prefix='NLTK_')\r\n",
    "\r\n",
    "\r\n",
    "def flatten_list(df, column, option_prefix):\r\n",
    "    pass\r\n",
    "\r\n",
    "df.head()\r\n",
    "\r\n"
   ]
  },
  {
   "cell_type": "code",
   "execution_count": null,
   "metadata": {},
   "outputs": [],
   "source": [
    "#average vectors for each item\r\n",
    "average_df = pd.DataFrame()\r\n",
    "coins = list(df['Query'].unique())\r\n",
    "nltk_negs = []\r\n",
    "nltk_neus\r\n",
    "for coin in coins:\r\n",
    "    temp = df[df['Query']==coin]\r\n"
   ]
  },
  {
   "cell_type": "code",
   "execution_count": null,
   "metadata": {},
   "outputs": [],
   "source": []
  }
 ],
 "metadata": {
  "kernelspec": {
   "display_name": "Python 3.7.9 64-bit",
   "metadata": {
    "interpreter": {
     "hash": "125f83d50878569f2fea4ba507a22ab9b39fd1a541a24c113b4197a3635e152f"
    }
   },
   "name": "python3"
  },
  "language_info": {
   "codemirror_mode": {
    "name": "ipython",
    "version": 3
   },
   "file_extension": ".py",
   "mimetype": "text/x-python",
   "name": "python",
   "nbconvert_exporter": "python",
   "pygments_lexer": "ipython3",
   "version": "3.7.9"
  },
  "orig_nbformat": 2
 },
 "nbformat": 4,
 "nbformat_minor": 2
}